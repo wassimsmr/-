{
 "cells": [
  {
   "cell_type": "markdown",
   "id": "225f8171",
   "metadata": {},
   "source": [
    "<h1> Лабораторная работа № 1 <h1>"
   ]
  },
  {
   "cell_type": "markdown",
   "id": "7779e66f",
   "metadata": {},
   "source": [
    "<h3>шифр Цезаря:<h3>"
   ]
  },
  {
   "cell_type": "code",
   "execution_count": 7,
   "id": "8aeb633c",
   "metadata": {},
   "outputs": [],
   "source": [
    "def ceasar():\n",
    "    letters = 'ABCDEFGHIJKLMNOPQRSTUVWXYZABCDEFGHIJKLMNOPQRSTUVWXYZ'\n",
    "    key_steps = 6\n",
    "    text = input('Текст для шифровки: ')\n",
    "    result = ''\n",
    "    for i in text:\n",
    "        ind = letters.find(i)\n",
    "        ind2 = ind + key_steps\n",
    "        if i in letters:\n",
    "            result += letters[ind2]\n",
    "        else:\n",
    "            result += i\n",
    "    print(result)\n",
    "    \n",
    "def ceasar_dec():\n",
    "    letters = 'ABCDEFGHIJKLMNOPQRSTUVWXYZABCDEFGHIJKLMNOPQRSTUVWXYZ'\n",
    "    key_steps = 6\n",
    "    text = input('Текст для дешивровки: ')\n",
    "    result = ''\n",
    "    for i in text:\n",
    "        ind = letters.find(i)\n",
    "        ind2 = ind - key_steps\n",
    "        if i in letters:\n",
    "            result += letters[ind2]\n",
    "        else:\n",
    "            result += i\n",
    "    print(result)"
   ]
  },
  {
   "cell_type": "code",
   "execution_count": 8,
   "id": "f77b5579",
   "metadata": {},
   "outputs": [
    {
     "name": "stdout",
     "output_type": "stream",
     "text": [
      "Текст для шифровки: THISISLABONE\n",
      "ZNOYOYRGHUTK\n"
     ]
    }
   ],
   "source": [
    "ceasar()"
   ]
  },
  {
   "cell_type": "code",
   "execution_count": 9,
   "id": "efa5e590",
   "metadata": {},
   "outputs": [
    {
     "name": "stdout",
     "output_type": "stream",
     "text": [
      "Текст для дешивровки: ZNOYOYRGHUTK\n",
      "THISISLABONE\n"
     ]
    }
   ],
   "source": [
    "ceasar_dec()"
   ]
  },
  {
   "cell_type": "markdown",
   "id": "3ea5f45d",
   "metadata": {},
   "source": [
    "<h3>Шифр Атбаш:<h3>"
   ]
  },
  {
   "cell_type": "code",
   "execution_count": 10,
   "id": "8a687b14",
   "metadata": {},
   "outputs": [],
   "source": [
    "def atbash():\n",
    "    letters = 'ABCDEFGHIJKLMNOPQRSTUVWXYZ'\n",
    "    letters_r = [x for x in letters]\n",
    "    letters_r.reverse()\n",
    "\n",
    "    text = input(\"Текст для шифровки: \")\n",
    "    result = \"\"\n",
    "    for i in text:\n",
    "        for j,l in enumerate(letters):\n",
    "            if i == l:\n",
    "                result += letters_r[j]\n",
    "    print(result)\n",
    "    \n",
    "def atbash_dec():\n",
    "    letters = 'ABCDEFGHIJKLMNOPQRSTUVWXYZ'\n",
    "    letters_r = [x for x in letters]\n",
    "    letters_r.reverse()\n",
    "    text = input('Текст для дешифровки: ')\n",
    "    result = ''\n",
    "    for i in text:\n",
    "        for j, l in enumerate(letters_r):\n",
    "            if i == l:\n",
    "                result += letters[j]\n",
    "    print(result)"
   ]
  },
  {
   "cell_type": "code",
   "execution_count": 11,
   "id": "60babe5a",
   "metadata": {},
   "outputs": [
    {
     "name": "stdout",
     "output_type": "stream",
     "text": [
      "Текст для шифровки: TEST\n",
      "GVHG\n"
     ]
    }
   ],
   "source": [
    "atbash()"
   ]
  },
  {
   "cell_type": "code",
   "execution_count": 12,
   "id": "4368b41d",
   "metadata": {},
   "outputs": [
    {
     "name": "stdout",
     "output_type": "stream",
     "text": [
      "Текст для дешифровки: GVHG\n",
      "TEST\n"
     ]
    }
   ],
   "source": [
    "atbash_dec()"
   ]
  },
  {
   "cell_type": "code",
   "execution_count": null,
   "id": "533ddd76",
   "metadata": {},
   "outputs": [],
   "source": []
  }
 ],
 "metadata": {
  "kernelspec": {
   "display_name": "Python 3 (ipykernel)",
   "language": "python",
   "name": "python3"
  },
  "language_info": {
   "codemirror_mode": {
    "name": "ipython",
    "version": 3
   },
   "file_extension": ".py",
   "mimetype": "text/x-python",
   "name": "python",
   "nbconvert_exporter": "python",
   "pygments_lexer": "ipython3",
   "version": "3.11.5"
  }
 },
 "nbformat": 4,
 "nbformat_minor": 5
}
