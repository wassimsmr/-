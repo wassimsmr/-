{
 "cells": [
  {
   "cell_type": "code",
   "execution_count": 36,
   "id": "c6599b32",
   "metadata": {},
   "outputs": [],
   "source": [
    "def gamma_cypher(text, gamma):\n",
    "    dict = {\"а\" :1, \"б\" :2 , \"в\" :3 ,\"г\" :4 ,\"д\" :5 ,\"е\" :6 ,\"ё\" :7 ,\"ж\": 8, \"з\": 9, \"и\": 10, \n",
    "            \"й\": 11, \"к\": 12, \"л\": 13, \"м\": 14, \"н\": 15, \"о\": 16, \"п\": 17, \"р\": 18, \"с\": 19, \n",
    "            \"т\": 20, \"у\": 21, \"ф\": 22, \"х\": 23, \"ц\": 24, \"ч\": 25, \"ш\": 26, \"щ\": 27, \"ъ\": 28,\n",
    "            \"ы\": 29, \"ь\": 30, \"э\": 31, \"ю\": 32, \"я\": 33\n",
    "            }\n",
    "    dict2 = {v: k for k, v in dict.items()}\n",
    "    digits_text = []\n",
    "    digits_gamma = []\n",
    "    \n",
    "    for i in text:\n",
    "        digits_text.append(dict[i])\n",
    "    print(\"Числа текста: \", digits_text)\n",
    "    \n",
    "    for i in gamma:\n",
    "        digits_gamma.append(dict[i])\n",
    "    print(\"Числа гаммы: \", digits_gamma)\n",
    "    \n",
    "    digits_res = []\n",
    "    ch = 0\n",
    "    for i in text:\n",
    "        a = dict[i] + digits_gamma[ch % len(digits_gamma)]  # Циклическое использование гаммы\n",
    "        if a >= 33:\n",
    "            a = a % 33\n",
    "        ch += 1\n",
    "        digits_res.append(a)\n",
    "    print(\"Числа шифра: \", digits_res)\n",
    "    \n",
    "    text_enc = \"\"\n",
    "    for i in digits_res:\n",
    "        text_enc += dict2[i]\n",
    "    print(\"Зашифрованный текст: \", text_enc)\n",
    "    \n",
    "    digits = []\n",
    "    for i in text_enc:\n",
    "        digits.append(dict[i])\n",
    "    ch = 0\n",
    "    digits1 = []\n",
    "    for i in digits:\n",
    "        a = i - digits_gamma[ch % len(digits_gamma)]  # Циклическое использование гаммы\n",
    "        if a < 1:\n",
    "            a = 33 + a\n",
    "        digits1.append(a)\n",
    "        ch += 1\n",
    "    \n",
    "    text_dec = \"\"\n",
    "    for i in digits1:\n",
    "        text_dec += dict2[i]\n",
    "    print(\"Расшифрованный текст:\", text_dec)"
   ]
  },
  {
   "cell_type": "code",
   "execution_count": 37,
   "id": "77b4412f",
   "metadata": {},
   "outputs": [],
   "source": [
    "text = \"зашифровать\"\n",
    "gamma = \"ключсекрет\""
   ]
  },
  {
   "cell_type": "code",
   "execution_count": 38,
   "id": "15b7bf32",
   "metadata": {},
   "outputs": [
    {
     "data": {
      "text/plain": [
       "11"
      ]
     },
     "execution_count": 38,
     "metadata": {},
     "output_type": "execute_result"
    }
   ],
   "source": [
    "len(text)"
   ]
  },
  {
   "cell_type": "code",
   "execution_count": 39,
   "id": "397ca34c",
   "metadata": {},
   "outputs": [
    {
     "data": {
      "text/plain": [
       "10"
      ]
     },
     "execution_count": 39,
     "metadata": {},
     "output_type": "execute_result"
    }
   ],
   "source": [
    "len(gamma)"
   ]
  },
  {
   "cell_type": "code",
   "execution_count": 40,
   "id": "f319b3e1",
   "metadata": {},
   "outputs": [
    {
     "name": "stdout",
     "output_type": "stream",
     "text": [
      "Числа текста:  [9, 1, 26, 10, 22, 18, 16, 3, 1, 20, 30]\n",
      "Числа гаммы:  [12, 13, 32, 25, 19, 6, 12, 18, 6, 20]\n",
      "Числа шифра:  [21, 14, 25, 2, 8, 24, 28, 21, 7, 7, 9]\n",
      "Зашифрованный текст:  умчбжцъуёёз\n",
      "Расшифрованный текст: зашифровать\n"
     ]
    }
   ],
   "source": [
    "gamma_cypher(text, gamma)"
   ]
  },
  {
   "cell_type": "code",
   "execution_count": null,
   "id": "39630609",
   "metadata": {},
   "outputs": [],
   "source": []
  }
 ],
 "metadata": {
  "kernelspec": {
   "display_name": "Python 3 (ipykernel)",
   "language": "python",
   "name": "python3"
  },
  "language_info": {
   "codemirror_mode": {
    "name": "ipython",
    "version": 3
   },
   "file_extension": ".py",
   "mimetype": "text/x-python",
   "name": "python",
   "nbconvert_exporter": "python",
   "pygments_lexer": "ipython3",
   "version": "3.11.5"
  }
 },
 "nbformat": 4,
 "nbformat_minor": 5
}
